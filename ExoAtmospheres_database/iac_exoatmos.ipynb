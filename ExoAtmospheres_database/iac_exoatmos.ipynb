{
 "cells": [
  {
   "cell_type": "code",
   "execution_count": 1,
   "metadata": {},
   "outputs": [],
   "source": [
    "import pandas as pd\n",
    "\n",
    "import matplotlib.pyplot as plt\n",
    "from matplotlib.ticker import MultipleLocator\n",
    "import seaborn as sns\n",
    "\n",
    "custom_params = {\"xtick.minor.visible\": True,\n",
    "                 \"xtick.major.pad\":5,\n",
    "                 \"xtick.direction\":\"in\",\n",
    "                 \"xtick.top\":True,\n",
    "                 \"ytick.minor.visible\": True,\n",
    "                 \"ytick.direction\":\"in\",\n",
    "                 \"ytick.right\":True,\n",
    "                 \"font.family\":\"Helvetica\",\n",
    "                 \"font.size\":12.0,\n",
    "                 \"legend.frameon\":False,\n",
    "                 \"legend.labelspacing\":0}\n",
    "\n",
    "sns.set_theme(style='ticks', rc=custom_params)"
   ]
  },
  {
   "cell_type": "code",
   "execution_count": 2,
   "metadata": {},
   "outputs": [],
   "source": [
    "# import\n",
    "csv_name = \"iac_exoplanet_atmospheres-20231114.csv\"\n",
    "data = pd.read_csv(csv_name, delimiter=';')"
   ]
  },
  {
   "cell_type": "markdown",
   "metadata": {},
   "source": [
    "### Detections of Exoplanet Atmospheres"
   ]
  },
  {
   "cell_type": "code",
   "execution_count": 3,
   "metadata": {},
   "outputs": [],
   "source": [
    "# Replace 'G-B....' with 'Ground Based'\n",
    "data['observation_type'] = data['observation_type'].replace(r'G-B.*', 'Ground Based', regex=True)\n",
    "\n",
    "# Replace anything including 'JWST' with 'JWST'\n",
    "data['observation_type'] = data['observation_type'].replace(r'.*JWST.*', 'JWST', regex=True)\n",
    "\n",
    "# Replace anything including 'HST' with 'HST'\n",
    "data['observation_type'] = data['observation_type'].replace(r'.*HST.*', 'HST', regex=True)"
   ]
  },
  {
   "cell_type": "code",
   "execution_count": 4,
   "metadata": {},
   "outputs": [
    {
     "data": {
      "text/html": [
       "<div>\n",
       "<style scoped>\n",
       "    .dataframe tbody tr th:only-of-type {\n",
       "        vertical-align: middle;\n",
       "    }\n",
       "\n",
       "    .dataframe tbody tr th {\n",
       "        vertical-align: top;\n",
       "    }\n",
       "\n",
       "    .dataframe thead th {\n",
       "        text-align: right;\n",
       "    }\n",
       "</style>\n",
       "<table border=\"1\" class=\"dataframe\">\n",
       "  <thead>\n",
       "    <tr style=\"text-align: right;\">\n",
       "      <th></th>\n",
       "      <th>observation_type</th>\n",
       "      <th>name</th>\n",
       "    </tr>\n",
       "  </thead>\n",
       "  <tbody>\n",
       "    <tr>\n",
       "      <th>0</th>\n",
       "      <td>Direct Detection</td>\n",
       "      <td>2</td>\n",
       "    </tr>\n",
       "    <tr>\n",
       "      <th>1</th>\n",
       "      <td>CHEOPS</td>\n",
       "      <td>6</td>\n",
       "    </tr>\n",
       "    <tr>\n",
       "      <th>2</th>\n",
       "      <td>Spitzer</td>\n",
       "      <td>28</td>\n",
       "    </tr>\n",
       "    <tr>\n",
       "      <th>3</th>\n",
       "      <td>JWST</td>\n",
       "      <td>30</td>\n",
       "    </tr>\n",
       "    <tr>\n",
       "      <th>4</th>\n",
       "      <td>TESS</td>\n",
       "      <td>31</td>\n",
       "    </tr>\n",
       "    <tr>\n",
       "      <th>5</th>\n",
       "      <td>HST</td>\n",
       "      <td>129</td>\n",
       "    </tr>\n",
       "    <tr>\n",
       "      <th>6</th>\n",
       "      <td>Ground Based</td>\n",
       "      <td>342</td>\n",
       "    </tr>\n",
       "  </tbody>\n",
       "</table>\n",
       "</div>"
      ],
      "text/plain": [
       "   observation_type  name\n",
       "0  Direct Detection     2\n",
       "1            CHEOPS     6\n",
       "2           Spitzer    28\n",
       "3              JWST    30\n",
       "4              TESS    31\n",
       "5               HST   129\n",
       "6      Ground Based   342"
      ]
     },
     "execution_count": 4,
     "metadata": {},
     "output_type": "execute_result"
    }
   ],
   "source": [
    "detections = data.groupby('observation_type')['name'].count().sort_values().reset_index()\n",
    "detections\n"
   ]
  },
  {
   "cell_type": "markdown",
   "metadata": {},
   "source": [
    "### Water in Exoplanet Atmospheres"
   ]
  },
  {
   "cell_type": "code",
   "execution_count": 5,
   "metadata": {},
   "outputs": [],
   "source": [
    "water_planets = data[data['molecules'].str.contains('H2O\":\"Detection\"')]\n",
    "water_planets = water_planets[water_planets['planet_status']=='Confirmed']\n"
   ]
  },
  {
   "cell_type": "code",
   "execution_count": 6,
   "metadata": {},
   "outputs": [
    {
     "name": "stdout",
     "output_type": "stream",
     "text": [
      "Number of exoplanets w/ water detected = 60\n",
      "Number with water detected at least twice = 30\n"
     ]
    }
   ],
   "source": [
    "number = water_planets.name.value_counts()\n",
    "print(f'Number of exoplanets w/ water detected = {len(number)}')\n",
    "print(f'Number with water detected at least twice = {len(number[number.values>1])}')"
   ]
  },
  {
   "cell_type": "code",
   "execution_count": 7,
   "metadata": {},
   "outputs": [],
   "source": [
    "water_planets['mass_E'] = water_planets['mass']*317.8\n",
    "water_planets['radius_E'] = water_planets['radius']*10.98"
   ]
  },
  {
   "cell_type": "code",
   "execution_count": 8,
   "metadata": {},
   "outputs": [],
   "source": [
    "water_planets['NASA_category'] = None\n",
    "water_planets.loc[water_planets['radius_E']>=7, 'NASA_category'] = 'Gas Giant'\n",
    "water_planets.loc[(water_planets['radius_E']<7) & (water_planets['radius_E']>2), 'NASA_category'] = 'Neptune-like'\n",
    "water_planets.loc[(water_planets['radius_E']<2) & (water_planets['mass_E']>1), 'NASA_category'] = 'Super-Earth'\n",
    "water_planets.loc[(water_planets['radius_E']<2) & (water_planets['mass_E']<=1), 'NASA_category'] = 'Terrestrial'"
   ]
  },
  {
   "cell_type": "code",
   "execution_count": 9,
   "metadata": {},
   "outputs": [],
   "source": [
    "water_planets = water_planets.drop_duplicates('name').groupby('name').agg({'molecules':lambda x: ' '.join(map(str, x)),\n",
    "                                                   'NASA_category':lambda x: ' '.join(map(str, x)),\n",
    "                                                   'type':lambda x: ' '.join(map(str, x))}).reset_index()"
   ]
  },
  {
   "cell_type": "code",
   "execution_count": 10,
   "metadata": {},
   "outputs": [],
   "source": [
    "for x in range(len(water_planets)):\n",
    "    if water_planets.loc[x].type == 'UltraHot Jupiter':\n",
    "        water_planets.loc[x,'type'] = 'Ultra-Hot\\nJupiter'\n",
    "    elif water_planets.loc[x].type == 'Hot Jupiter':\n",
    "        water_planets.loc[x,'type'] = 'Hot\\nJupiter'\n",
    "    elif water_planets.loc[x].type == 'Jupiter':\n",
    "        water_planets.loc[x,'type'] = 'Gas\\nGiant'\n",
    "    elif water_planets.loc[x].type == 'UltraHot':\n",
    "        water_planets.loc[x,'type'] = 'Ultra-Hot\\nNeptune'\n",
    "    elif water_planets.loc[x].type == 'Hot':\n",
    "        water_planets.loc[x,'type'] = 'Hot\\nNeptune'\n",
    "    elif water_planets.loc[x,'type'] == 'Temperate':\n",
    "        if water_planets.loc[x].NASA_category == 'Neptune-like':\n",
    "            water_planets.loc[x,'type'] = 'Temperate\\nNeptune'\n",
    "        else: water_planets.loc[x,'type'] = 'Temperate\\nSuper-Earth'\n",
    "    elif water_planets.loc[x].type == 'Warm':\n",
    "        if water_planets.loc[x].NASA_category == 'Neptune-like':\n",
    "            water_planets.loc[x,'type'] = 'Warm\\nNeptune'\n",
    "        else: water_planets.loc[x,'type'] = 'Warm\\nSuper-Earth'"
   ]
  },
  {
   "cell_type": "code",
   "execution_count": 11,
   "metadata": {},
   "outputs": [],
   "source": [
    "exoplanets_palette = {'Temperate\\nSuper-Earth':'hotpink',\n",
    "         'Warm\\nSuper-Earth':'deeppink',\n",
    "         'Temperate\\nNeptune':'lightskyblue',\n",
    "         'Warm\\nNeptune':'skyblue',\n",
    "         'Hot\\nNeptune':'deepskyblue',\n",
    "         'Ultra-Hot\\nNeptune':'steelblue',\n",
    "         'Gas\\nGiant':'gold',\n",
    "         'Hot\\nJupiter':'orange',\n",
    "         'Ultra-Hot\\nJupiter':'darkorange'}"
   ]
  },
  {
   "cell_type": "code",
   "execution_count": 12,
   "metadata": {},
   "outputs": [
    {
     "name": "stdout",
     "output_type": "stream",
     "text": [
      "type\n",
      "Temperate\\nSuper-Earth     1\n",
      "Ultra-Hot\\nNeptune         1\n",
      "Warm\\nSuper-Earth          1\n",
      "Hot\\nNeptune               2\n",
      "Temperate\\nNeptune         2\n",
      "Warm\\nNeptune              2\n",
      "Gas\\nGiant                 3\n",
      "Ultra-Hot\\nJupiter        12\n",
      "Hot\\nJupiter              36\n",
      "Name: name, dtype: int64\n"
     ]
    }
   ],
   "source": [
    "grouped_data = water_planets.groupby('type')['name'].count().sort_values()\n",
    "print(grouped_data)"
   ]
  },
  {
   "cell_type": "code",
   "execution_count": 19,
   "metadata": {},
   "outputs": [
    {
     "name": "stderr",
     "output_type": "stream",
     "text": [
      "C:\\Users\\ocram\\AppData\\Local\\Temp\\ipykernel_25196\\452814966.py:2: FutureWarning: \n",
      "\n",
      "Passing `palette` without assigning `hue` is deprecated and will be removed in v0.14.0. Assign the `x` variable to `hue` and set `legend=False` for the same effect.\n",
      "\n",
      "  sns.barplot(data=grouped_data, ax=ax, order=exoplanets_palette.keys(), palette=exoplanets_palette)\n"
     ]
    },
    {
     "data": {
      "image/png": "[encoded data removed]",
      "text/plain": [
       "<Figure size 1000x500 with 1 Axes>"
      ]
     },
     "metadata": {},
     "output_type": "display_data"
    }
   ],
   "source": [
    "fig, ax = plt.subplots(1,1,figsize=(10,5))\n",
    "sns.barplot(data=grouped_data, ax=ax, order=exoplanets_palette.keys(), palette=exoplanets_palette)\n",
    "ax.xaxis.set_tick_params(which='both', top=False, bottom=False)\n",
    "\n",
    "# Add labels and title\n",
    "plt.ylim(0,40)\n",
    "plt.xticks(rotation='horizontal')\n",
    "plt.xlabel(None)\n",
    "plt.ylabel('Exoplanet types with water detections')\n",
    "plt.tight_layout()\n",
    "\n",
    "plt.savefig('Water_Detections_Categories', dpi=200)"
   ]
  },
  {
   "cell_type": "code",
   "execution_count": null,
   "metadata": {},
   "outputs": [],
   "source": []
  }
 ],
 "metadata": {
  "kernelspec": {
   "display_name": "Python 3",
   "language": "python",
   "name": "python3"
  },
  "language_info": {
   "codemirror_mode": {
    "name": "ipython",
    "version": 3
   },
   "file_extension": ".py",
   "mimetype": "text/x-python",
   "name": "python",
   "nbconvert_exporter": "python",
   "pygments_lexer": "ipython3",
   "version": "3.11.2"
  }
 },
 "nbformat": 4,
 "nbformat_minor": 2
}
